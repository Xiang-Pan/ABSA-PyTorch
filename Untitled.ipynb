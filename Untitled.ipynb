{
 "cells": [
  {
   "cell_type": "code",
   "execution_count": 8,
   "id": "b2179813",
   "metadata": {},
   "outputs": [],
   "source": [
    "def get_aspect_set(file_name):\n",
    "    s = set()\n",
    "    f = open(file_name)\n",
    "    count = 0\n",
    "    for line in f.readlines():\n",
    "        if count == 1:\n",
    "            line = line.strip().replace('\\n',\"\")\n",
    "            s.add(line)\n",
    "        count += 1\n",
    "        if count == 3:\n",
    "            count = 0\n",
    "    return s"
   ]
  },
  {
   "cell_type": "code",
   "execution_count": 9,
   "id": "96bddcb7",
   "metadata": {},
   "outputs": [],
   "source": [
    "import random\n",
    "def get_random_aspect(s):\n",
    "    slice = random.sample(s, 1)\n",
    "    return slice"
   ]
  },
  {
   "cell_type": "code",
   "execution_count": 10,
   "id": "30131e74",
   "metadata": {},
   "outputs": [],
   "source": [
    "laptop_train_file_name = \"./datasets/semeval14/Laptops_Train.xml.seg\"\n",
    "laptop_train_target_set = get_aspect_set(laptop_train_file_name)\n",
    "laptop_test_file_name = \"./datasets/semeval14/Laptops_Test_Gold.xml.seg\"\n",
    "laptop_test_target_set = get_aspect_set(laptop_test_file_name)\n",
    "rest_train_file_name = \"./datasets/semeval14/Restaurants_Train.xml.seg\"\n",
    "rest_train_target_set = get_aspect_set(rest_train_file_name)\n",
    "rest_test_file_name = \"./datasets/semeval14/Restaurants_Test_Gold.xml.seg\"\n",
    "rest_test_target_set = get_aspect_set(rest_test_file_name)"
   ]
  },
  {
   "cell_type": "markdown",
   "id": "8b3b0303",
   "metadata": {},
   "source": [
    "# Restaurants"
   ]
  },
  {
   "cell_type": "markdown",
   "id": "07df3670",
   "metadata": {},
   "source": [
    "## Restaurants_Test_Random_Rest"
   ]
  },
  {
   "cell_type": "code",
   "execution_count": 23,
   "id": "7a679f74",
   "metadata": {},
   "outputs": [],
   "source": [
    "rest_test_file_name = \"./datasets/semeval14/Restaurants_Test_Gold.xml.seg\"\n",
    "f = open(rest_test_file_name)    \n",
    "out_name = \"./datasets/semeval14/Restaurants_Test_Random_Rest.seg\"\n",
    "out = open(out_name,'w+')\n",
    "count = 0\n",
    "for line in f.readlines():\n",
    "    if count == 1:\n",
    "        line = get_random_aspect(rest_test_target_set)[0] + '\\n'\n",
    "    count += 1\n",
    "    if count == 3:\n",
    "        count = 0\n",
    "    out.write(line)\n",
    "out.close()"
   ]
  },
  {
   "cell_type": "markdown",
   "id": "75b2c7be",
   "metadata": {},
   "source": [
    "## Restaurants_Test_Random_Laptop"
   ]
  },
  {
   "cell_type": "code",
   "execution_count": 9,
   "id": "4555fe63",
   "metadata": {},
   "outputs": [],
   "source": [
    "f = open(rest_test_file_name)    \n",
    "out_name = \"./datasets/semeval14/Restaurants_Test_Random_Laptop.seg\"\n",
    "out = open(out_name,'w+')\n",
    "count = 0\n",
    "for line in f.readlines():\n",
    "    if count == 1:\n",
    "        line = get_random_aspect(laptop_test_target_set)[0] + '\\n'\n",
    "    count += 1\n",
    "    if count == 3:\n",
    "        count = 0\n",
    "    out.write(line)\n",
    "out.close()"
   ]
  },
  {
   "cell_type": "markdown",
   "id": "92aba0cb",
   "metadata": {},
   "source": [
    "## Restaurants_Random_Rest_Test_Random_Laptop"
   ]
  },
  {
   "cell_type": "code",
   "execution_count": 11,
   "id": "c8b78e2b",
   "metadata": {},
   "outputs": [],
   "source": [
    "f = open(rest_train_file_name)    \n",
    "out_name = \"./datasets/semeval14/Restaurants_Random_Rest_Test_Random_Laptop.seg\"\n",
    "out = open(out_name,'w+')\n",
    "count = 0\n",
    "for line in f.readlines():\n",
    "    if count == 1:\n",
    "        line = get_random_aspect(rest_train_target_set)[0] + '\\n'\n",
    "    count += 1\n",
    "    if count == 3:\n",
    "        count = 0\n",
    "    out.write(line)\n",
    "out.close()"
   ]
  },
  {
   "cell_type": "markdown",
   "id": "60fe23e6",
   "metadata": {},
   "source": [
    "## Restaurants_Random_Laptop_Test_Random_Laptop"
   ]
  },
  {
   "cell_type": "code",
   "execution_count": 16,
   "id": "4fc1b2ca",
   "metadata": {},
   "outputs": [],
   "source": [
    "f = open(rest_train_file_name)    \n",
    "out_name = \"./datasets/semeval14/Restaurants_Random_Laptop_Test_Random_Laptop.seg\"\n",
    "out = open(out_name,'w+')\n",
    "count = 0\n",
    "for line in f.readlines():\n",
    "    if count == 1:\n",
    "        line = get_random_aspect(laptop_train_target_set)[0] + '\\n'\n",
    "    count += 1\n",
    "    if count == 3:\n",
    "        count = 0\n",
    "    out.write(line)\n",
    "out.close()"
   ]
  },
  {
   "cell_type": "markdown",
   "id": "c42780cc",
   "metadata": {},
   "source": [
    "# Laptops"
   ]
  },
  {
   "cell_type": "markdown",
   "id": "48d22075",
   "metadata": {},
   "source": [
    "## Laptops_Test_Random_Laptop"
   ]
  },
  {
   "cell_type": "code",
   "execution_count": 14,
   "id": "f21bad48",
   "metadata": {},
   "outputs": [],
   "source": [
    "f = open(laptop_test_file_name)    \n",
    "out_name = \"./datasets/semeval14/Laptops_Test_Random_Laptop.seg\"\n",
    "out = open(out_name,'w+')\n",
    "count = 0\n",
    "for line in f.readlines():\n",
    "    if count == 1:\n",
    "        line = get_random_aspect(laptop_test_target_set)[0] + '\\n'\n",
    "    count += 1\n",
    "    if count == 3:\n",
    "        count = 0\n",
    "    out.write(line)\n",
    "out.close()"
   ]
  },
  {
   "cell_type": "markdown",
   "id": "3a76c78e",
   "metadata": {},
   "source": [
    "## Laptops_Test_Random_Rest"
   ]
  },
  {
   "cell_type": "code",
   "execution_count": 17,
   "id": "ece08c27",
   "metadata": {},
   "outputs": [],
   "source": [
    "f = open(laptop_test_file_name)    \n",
    "out_name = \"./datasets/semeval14/Laptops_Test_Random_Rest.seg\"\n",
    "out = open(out_name,'w+')\n",
    "count = 0\n",
    "for line in f.readlines():\n",
    "    if count == 1:\n",
    "        line = get_random_aspect(rest_test_target_set)[0] + '\\n'\n",
    "    count += 1\n",
    "    if count == 3:\n",
    "        count = 0\n",
    "    out.write(line)\n",
    "out.close()"
   ]
  },
  {
   "cell_type": "markdown",
   "id": "dc98704d",
   "metadata": {},
   "source": [
    "## Laptops_Train_Random_Laptop"
   ]
  },
  {
   "cell_type": "code",
   "execution_count": 18,
   "id": "41572cdc",
   "metadata": {},
   "outputs": [],
   "source": [
    "f = open(laptop_test_file_name)    \n",
    "out_name = \"./datasets/semeval14/Laptops_Train_Random_Laptop.seg\"\n",
    "out = open(out_name,'w+')\n",
    "count = 0\n",
    "for line in f.readlines():\n",
    "    if count == 1:\n",
    "        line = get_random_aspect(laptop_train_target_set)[0] + '\\n'\n",
    "    count += 1\n",
    "    if count == 3:\n",
    "        count = 0\n",
    "    out.write(line)\n",
    "out.close()"
   ]
  },
  {
   "cell_type": "markdown",
   "id": "fb0448c8",
   "metadata": {},
   "source": [
    "## Laptops_Train_Random_Rest"
   ]
  },
  {
   "cell_type": "code",
   "execution_count": 19,
   "id": "32124cea",
   "metadata": {},
   "outputs": [],
   "source": [
    "f = open(laptop_test_file_name)    \n",
    "out_name = \"./datasets/semeval14/Laptops_Train_Random_Rest.seg\"\n",
    "out = open(out_name,'w+')\n",
    "count = 0\n",
    "for line in f.readlines():\n",
    "    if count == 1:\n",
    "        line = get_random_aspect(rest_train_target_set)[0] + '\\n'\n",
    "    count += 1\n",
    "    if count == 3:\n",
    "        count = 0\n",
    "    out.write(line)\n",
    "out.close()"
   ]
  },
  {
   "cell_type": "code",
   "execution_count": 20,
   "id": "f6fcb36f",
   "metadata": {},
   "outputs": [],
   "source": [
    "    dataset_files = {\n",
    "        'twitter': {\n",
    "            'train': './datasets/acl-14-short-data/train.raw',\n",
    "            'test': './datasets/acl-14-short-data/test.raw'\n",
    "        },\n",
    "        'restaurant': {\n",
    "            'train': './datasets/semeval14/restaurant.train',\n",
    "            'test': './datasets/semeval14/restaurant.test'\n",
    "        },\n",
    "        'restaurant_random_rest_test': {\n",
    "            'train': './datasets/semeval14/restaurant.train',\n",
    "            'test': './datasets/semeval14/restaurant_random_rest.test'\n",
    "        },\n",
    "        'restaurant_random_laptop_test': {\n",
    "            'train': './datasets/semeval14/restaurant.train',\n",
    "            'test': './datasets/semeval14/restaurant_random_laptop.test'\n",
    "        },\n",
    "        'restaurant_random_rest_train_gold_test': {\n",
    "            'train': './datasets/semeval14/restaurant_random_rest.train',\n",
    "            'test': './datasets/semeval14/restaurant.test'\n",
    "        },\n",
    "        'restaurant_random_laptop_train_gold_test': {\n",
    "            'train': './datasets/semeval14/restaurant_random_laptop.train',\n",
    "            'test': './datasets/semeval14/restaurant.test'\n",
    "        },\n",
    "        'laptop': {\n",
    "            'train': './datasets/semeval14/laptop.train',\n",
    "            'test': './datasets/semeval14/laptop.test'\n",
    "        },\n",
    "        'laptop_random_laptop_test': {\n",
    "            'train': './datasets/semeval14/laptop.train',\n",
    "            'test': './datasets/semeval14/laptop_random_laptop.test'\n",
    "        },\n",
    "        'laptop_random_rest_test': {\n",
    "            'train': './datasets/semeval14/laptop.train',\n",
    "            'test': './datasets/semeval14/laptop_random_rest.test'\n",
    "        },\n",
    "        'laptop_random_rest_train_gold_test': {\n",
    "            'train': './datasets/semeval14/laptop_random_rest.train',\n",
    "            'test': './datasets/semeval14/laptop.test'\n",
    "        },\n",
    "        'laptop_random_laptop_train_gold_test': {\n",
    "            'train': './datasets/semeval14/laptop_random_laptop.train',\n",
    "            'test': './datasets/semeval14/laptop.test'\n",
    "        }\n",
    "    }"
   ]
  },
  {
   "cell_type": "code",
   "execution_count": 21,
   "id": "77f50fea",
   "metadata": {},
   "outputs": [
    {
     "data": {
      "text/plain": [
       "dict_keys(['twitter', 'restaurant', 'restaurant_random_rest_test', 'restaurant_random_laptop_test', 'restaurant_random_rest_train_gold_test', 'restaurant_random_laptop_train_gold_test', 'laptop', 'laptop_random_laptop_test', 'laptop_random_rest_test', 'laptop_random_rest_train_gold_test', 'laptop_random_laptop_train_gold_test'])"
      ]
     },
     "execution_count": 21,
     "metadata": {},
     "output_type": "execute_result"
    }
   ],
   "source": [
    "dataset_files.keys()"
   ]
  },
  {
   "cell_type": "code",
   "execution_count": null,
   "id": "e5b3e3cf",
   "metadata": {},
   "outputs": [],
   "source": []
  }
 ],
 "metadata": {
  "kernelspec": {
   "display_name": "Python 3",
   "language": "python",
   "name": "python3"
  },
  "language_info": {
   "codemirror_mode": {
    "name": "ipython",
    "version": 3
   },
   "file_extension": ".py",
   "mimetype": "text/x-python",
   "name": "python",
   "nbconvert_exporter": "python",
   "pygments_lexer": "ipython3",
   "version": "3.8.8"
  }
 },
 "nbformat": 4,
 "nbformat_minor": 5
}
