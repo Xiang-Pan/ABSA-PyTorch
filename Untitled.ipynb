{
 "cells": [
  {
   "cell_type": "code",
   "execution_count": 1,
   "id": "b2179813",
   "metadata": {},
   "outputs": [],
   "source": [
    "def get_aspect_set(file_name):\n",
    "    s = set()\n",
    "    f = open(file_name)\n",
    "    count = 0\n",
    "    for line in f.readlines():\n",
    "        if count == 1:\n",
    "            line = line.strip().replace('\\n',\"\")\n",
    "            s.add(line)\n",
    "        count += 1\n",
    "        if count == 3:\n",
    "            count = 0\n",
    "    return s"
   ]
  },
  {
   "cell_type": "code",
   "execution_count": 2,
   "id": "96bddcb7",
   "metadata": {},
   "outputs": [],
   "source": [
    "import random\n",
    "def get_random_aspect(s):\n",
    "    slice = random.sample(s, 1)\n",
    "    return slice"
   ]
  },
  {
   "cell_type": "markdown",
   "id": "07df3670",
   "metadata": {},
   "source": [
    "## Restaurants_Test_Random_Rest"
   ]
  },
  {
   "cell_type": "code",
   "execution_count": 8,
   "id": "e83d2613",
   "metadata": {},
   "outputs": [],
   "source": [
    "rest_test_file_name = \"./datasets/semeval14/Restaurants_Test_Gold.xml.seg\""
   ]
  },
  {
   "cell_type": "code",
   "execution_count": 14,
   "id": "1852e2b9",
   "metadata": {},
   "outputs": [],
   "source": [
    "rest_test_target_set = get_aspect_set(rest_test_file_name)"
   ]
  },
  {
   "cell_type": "code",
   "execution_count": 23,
   "id": "7a679f74",
   "metadata": {},
   "outputs": [],
   "source": [
    "rest_test_file_name = \"./datasets/semeval14/Restaurants_Test_Gold.xml.seg\"\n",
    "f = open(rest_test_file_name)    \n",
    "out_name = \"./datasets/semeval14/Restaurants_Test_Random_Rest.seg\"\n",
    "out = open(out_name,'w+')\n",
    "count = 0\n",
    "for line in f.readlines():\n",
    "    if count == 1:\n",
    "        line = get_random_aspect(rest_test_target_set)[0] + '\\n'\n",
    "    count += 1\n",
    "    if count == 3:\n",
    "        count = 0\n",
    "    out.write(line)\n",
    "out.close()"
   ]
  },
  {
   "cell_type": "markdown",
   "id": "75b2c7be",
   "metadata": {},
   "source": [
    "## Restaurants_Test_Random_Laptop"
   ]
  },
  {
   "cell_type": "code",
   "execution_count": 6,
   "id": "2665a3e6",
   "metadata": {},
   "outputs": [],
   "source": [
    "laptop_test_file_name = \"./datasets/semeval14/Laptops_Test_Gold.xml.seg\"\n",
    "laptop_test_target_set = get_aspect_set(laptop_test_file_name)"
   ]
  },
  {
   "cell_type": "code",
   "execution_count": 9,
   "id": "4555fe63",
   "metadata": {},
   "outputs": [],
   "source": [
    "f = open(rest_test_file_name)    \n",
    "out_name = \"./datasets/semeval14/Restaurants_Test_Random_Laptop.seg\"\n",
    "out = open(out_name,'w+')\n",
    "count = 0\n",
    "for line in f.readlines():\n",
    "    if count == 1:\n",
    "        line = get_random_aspect(laptop_test_target_set)[0] + '\\n'\n",
    "    count += 1\n",
    "    if count == 3:\n",
    "        count = 0\n",
    "    out.write(line)\n",
    "out.close()"
   ]
  },
  {
   "cell_type": "code",
   "execution_count": null,
   "id": "f51eb7d0",
   "metadata": {},
   "outputs": [],
   "source": []
  }
 ],
 "metadata": {
  "kernelspec": {
   "display_name": "Python 3",
   "language": "python",
   "name": "python3"
  },
  "language_info": {
   "codemirror_mode": {
    "name": "ipython",
    "version": 3
   },
   "file_extension": ".py",
   "mimetype": "text/x-python",
   "name": "python",
   "nbconvert_exporter": "python",
   "pygments_lexer": "ipython3",
   "version": "3.8.8"
  }
 },
 "nbformat": 4,
 "nbformat_minor": 5
}
